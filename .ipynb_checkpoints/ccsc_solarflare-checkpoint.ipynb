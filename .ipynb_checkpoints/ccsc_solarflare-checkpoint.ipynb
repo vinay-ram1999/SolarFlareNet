{
 "cells": [
  {
   "cell_type": "markdown",
   "id": "1f0aea4a",
   "metadata": {},
   "source": [
    "# Operational Prediction of Solar Flares Using a Transformer-Based Framework"
   ]
  },
  {
   "cell_type": "markdown",
   "id": "8ec079e6",
   "metadata": {},
   "source": [
    "### Yasser Abduallah, Jason T. L. Wang, Haimin Wang, and Yan Xu "
   ]
  },
  {
   "cell_type": "markdown",
   "id": "f20f257a",
   "metadata": {},
   "source": [
    "## 1. Introduction"
   ]
  },
  {
   "cell_type": "markdown",
   "id": "73c9d7b7",
   "metadata": {},
   "source": [
    "Solar flares are sudden explosions of energy that occur on the Sun’s surface. They often occur in solar active regions (ARs), caused by strong magnetic fields typically associated with sunspot areas. Solar flares are categorized into five classes A, B, C, M, and X, with A-class flares having the lowest intensity and X-class flares having the highest intensity. Major flares are usually accompanied by coronal mass ejections and solar energetic particles1. These eruptive events can have significant and harmful effects on or near Earth, damaging technologies, power grids, space stations, and human life. Therefore, providing accurate and early forecasts of solar flares is crucial for disaster risk management, risk mitigation, and preparedness.\n",
    "\n",
    "In this notebook, we present a transformer-based framework, named SolarFlareNet, for predicting whether an AR would produce. we attempt to use SDO/HMI vector magnetic field data together with flaring history to predict solar flares that would occur in an AR within 24, 48, and 72 hr of a given time point."
   ]
  },
  {
   "cell_type": "markdown",
   "id": "64bde3dd",
   "metadata": {},
   "source": [
    "## 2. SolarFlareNet Workflow"
   ]
  },
  {
   "cell_type": "markdown",
   "id": "a8a9da94",
   "metadata": {},
   "source": [
    "### 2.1 Data Prepration & Loading"
   ]
  },
  {
   "cell_type": "markdown",
   "id": "deac8a76",
   "metadata": {},
   "source": [
    "The data folder includes the training and test files. Each file is named with the flare type and hour, similar as the following example:\n",
    "* testing_data_C_24.csv  is a testing file used to test the >= C flare prediction for the next 24-hour.\n",
    "* training_data_C_24.csv is a training file used to train the model for >= C flare prediction for the next 24-hour.\n",
    "\n",
    "The files are loaded and used during the testing and training process."
   ]
  },
  {
   "cell_type": "markdown",
   "id": "70175507",
   "metadata": {},
   "source": [
    "### 2.2 Predicting with Pretrained Models\n",
    "There are existing and pretrained models that can be used to predict without running your own trained model. If you run a training, it will override these models."
   ]
  },
  {
   "cell_type": "code",
   "execution_count": 1,
   "id": "d96550f3-0082-47e0-88aa-f4df2fadb17d",
   "metadata": {},
   "outputs": [
    {
     "name": "stdout",
     "output_type": "stream",
     "text": [
      "SUCCESS: Found GPU: /device:GPU:0\n",
      "Python version: 3.9.7\n",
      "Tensorflow bakcend version: 2.8.0\n",
      "\n",
      "\n",
      "[2023-11-05 12:09:09] Testing is initiated for time_window: 24 and flare class: C \n",
      "[2023-11-05 12:09:18] Loading weights from model dir: models\\24\\C \n",
      "[2023-11-05 12:09:19] Predicting test data set samples.. \n",
      "[2023-11-05 12:09:38] Saving result to file: result\\SolarFlareNet\\C_24.csv \n",
      "[2023-11-05 12:09:38] ===========================================================\n",
      "\n",
      " \n",
      "[2023-11-05 12:09:38] Testing is initiated for time_window: 24 and flare class: M \n",
      "[2023-11-05 12:09:46] Loading weights from model dir: models\\24\\M \n",
      "[2023-11-05 12:09:48] Predicting test data set samples.. \n",
      "[2023-11-05 12:09:52] Saving result to file: result\\SolarFlareNet\\M_24.csv \n",
      "[2023-11-05 12:09:52] ===========================================================\n",
      "\n",
      " \n",
      "[2023-11-05 12:09:52] Testing is initiated for time_window: 24 and flare class: M5 \n",
      "[2023-11-05 12:09:59] Loading weights from model dir: models\\24\\M5 \n",
      "[2023-11-05 12:10:01] Predicting test data set samples.. \n",
      "[2023-11-05 12:10:05] Saving result to file: result\\SolarFlareNet\\M5_24.csv \n",
      "[2023-11-05 12:10:05] ===========================================================\n",
      "\n",
      " \n",
      "[2023-11-05 12:10:05] Testing is initiated for time_window: 48 and flare class: C \n",
      "[2023-11-05 12:10:15] Loading weights from model dir: models\\48\\C \n",
      "[2023-11-05 12:10:16] Predicting test data set samples.. \n",
      "[2023-11-05 12:10:21] Saving result to file: result\\SolarFlareNet\\C_48.csv \n",
      "[2023-11-05 12:10:21] ===========================================================\n",
      "\n",
      " \n",
      "[2023-11-05 12:10:21] Testing is initiated for time_window: 48 and flare class: M \n",
      "[2023-11-05 12:10:30] Loading weights from model dir: models\\48\\M \n",
      "[2023-11-05 12:10:31] Predicting test data set samples.. \n",
      "[2023-11-05 12:10:36] Saving result to file: result\\SolarFlareNet\\M_48.csv \n",
      "[2023-11-05 12:10:37] ===========================================================\n",
      "\n",
      " \n",
      "[2023-11-05 12:10:37] Testing is initiated for time_window: 48 and flare class: M5 \n",
      "[2023-11-05 12:10:46] Loading weights from model dir: models\\48\\M5 \n",
      "[2023-11-05 12:10:47] Predicting test data set samples.. \n",
      "[2023-11-05 12:10:52] Saving result to file: result\\SolarFlareNet\\M5_48.csv \n",
      "[2023-11-05 12:10:52] ===========================================================\n",
      "\n",
      " \n",
      "[2023-11-05 12:10:52] Testing is initiated for time_window: 72 and flare class: C \n",
      "[2023-11-05 12:11:02] Loading weights from model dir: models\\72\\C \n",
      "[2023-11-05 12:11:03] Predicting test data set samples.. \n",
      "[2023-11-05 12:11:08] Saving result to file: result\\SolarFlareNet\\C_72.csv \n",
      "[2023-11-05 12:11:08] ===========================================================\n",
      "\n",
      " \n",
      "[2023-11-05 12:11:08] Testing is initiated for time_window: 72 and flare class: M \n",
      "[2023-11-05 12:11:18] Loading weights from model dir: models\\72\\M \n",
      "[2023-11-05 12:11:20] Predicting test data set samples.. \n",
      "[2023-11-05 12:11:25] Saving result to file: result\\SolarFlareNet\\M_72.csv \n",
      "[2023-11-05 12:11:25] ===========================================================\n",
      "\n",
      " \n",
      "[2023-11-05 12:11:25] Testing is initiated for time_window: 72 and flare class: M5 \n",
      "[2023-11-05 12:11:35] Loading weights from model dir: models\\72\\M5 \n",
      "[2023-11-05 12:11:37] Predicting test data set samples.. \n",
      "[2023-11-05 12:11:42] Saving result to file: result\\SolarFlareNet\\M5_72.csv \n",
      "[2023-11-05 12:11:42] ===========================================================\n",
      "\n",
      " \n",
      "Loading the train_model function...\n",
      "[2023-11-05 12:18:10] Training is initiated for time window: 24 and flare class: C \n",
      "Epoch 1/20\n",
      "84/84 - 23s - loss: 0.7854 - accuracy: 0.6767 - 23s/epoch - 272ms/step\n",
      "Epoch 2/20\n",
      "84/84 - 5s - loss: 0.6885 - accuracy: 0.6981 - 5s/epoch - 58ms/step\n",
      "Epoch 3/20\n",
      "84/84 - 5s - loss: 0.6556 - accuracy: 0.7363 - 5s/epoch - 57ms/step\n",
      "Epoch 4/20\n",
      "84/84 - 5s - loss: 0.6387 - accuracy: 0.7450 - 5s/epoch - 54ms/step\n",
      "Epoch 5/20\n",
      "84/84 - 5s - loss: 0.6220 - accuracy: 0.7505 - 5s/epoch - 56ms/step\n",
      "Epoch 6/20\n",
      "84/84 - 5s - loss: 0.6044 - accuracy: 0.7561 - 5s/epoch - 55ms/step\n",
      "Epoch 7/20\n",
      "84/84 - 4s - loss: 0.5831 - accuracy: 0.7632 - 4s/epoch - 53ms/step\n",
      "Epoch 8/20\n",
      "84/84 - 5s - loss: 0.5613 - accuracy: 0.7723 - 5s/epoch - 55ms/step\n",
      "Epoch 9/20\n",
      "84/84 - 5s - loss: 0.5407 - accuracy: 0.7809 - 5s/epoch - 54ms/step\n",
      "Epoch 10/20\n",
      "84/84 - 4s - loss: 0.5277 - accuracy: 0.7854 - 4s/epoch - 53ms/step\n",
      "Epoch 11/20\n",
      "84/84 - 5s - loss: 0.5094 - accuracy: 0.7919 - 5s/epoch - 55ms/step\n",
      "Epoch 12/20\n",
      "84/84 - 5s - loss: 0.4973 - accuracy: 0.7942 - 5s/epoch - 54ms/step\n",
      "Epoch 13/20\n",
      "84/84 - 5s - loss: 0.4849 - accuracy: 0.7977 - 5s/epoch - 54ms/step\n",
      "Epoch 14/20\n",
      "84/84 - 4s - loss: 0.4758 - accuracy: 0.8009 - 4s/epoch - 53ms/step\n",
      "Epoch 15/20\n",
      "84/84 - 5s - loss: 0.4567 - accuracy: 0.8125 - 5s/epoch - 54ms/step\n",
      "Epoch 16/20\n",
      "84/84 - 5s - loss: 0.4490 - accuracy: 0.8179 - 5s/epoch - 54ms/step\n",
      "Epoch 17/20\n",
      "84/84 - 5s - loss: 0.4369 - accuracy: 0.8225 - 5s/epoch - 57ms/step\n",
      "Epoch 18/20\n",
      "84/84 - 5s - loss: 0.4247 - accuracy: 0.8282 - 5s/epoch - 54ms/step\n",
      "Epoch 19/20\n",
      "84/84 - 5s - loss: 0.4102 - accuracy: 0.8379 - 5s/epoch - 55ms/step\n",
      "Epoch 20/20\n",
      "84/84 - 4s - loss: 0.4035 - accuracy: 0.8452 - 4s/epoch - 52ms/step\n",
      "[2023-11-05 12:20:08] Saving model weights to directory: models\\24\\C \n"
     ]
    }
   ],
   "source": [
    "#Test existing models for SolarFlareNet C,M, and M5 flares for  24, 47, and 72 hours.\n",
    "#You change the values to limit the flare types and number of hours to test.\n",
    "from SolarFlareNet_test import *\n",
    "for time_window in [24,48,72]:\n",
    "    for flare_class in ['C', 'M', 'M5']:\n",
    "        test(str(time_window), flare_class)\n",
    "        log('===========================================================\\n\\n',verbose=True)"
   ]
  },
  {
   "cell_type": "markdown",
   "id": "ffb36dd2",
   "metadata": {},
   "source": [
    "#### 2.2.1 SolarFlareNet Model Training\n",
    "Here, we show how to train the model with existing data samples."
   ]
  },
  {
   "cell_type": "code",
   "execution_count": null,
   "id": "3295900a",
   "metadata": {},
   "outputs": [],
   "source": [
    "#Train existing models for SolarFlareNet C,M, and M5 flares for  24, 47, and 72 hours.\n",
    "#You change the values to limit the flare types and number of hours to train.\n",
    "print('Loading the train_model function...')\n",
    "from SolarFlareNet_train import *\n",
    "for time_window in [24,48,72]:\n",
    "    for flare_class in ['C', 'M', 'M5']:\n",
    "        train(str(time_window), flare_class)\n",
    "        log('===========================================================\\n\\n',verbose=True)"
   ]
  },
  {
   "cell_type": "markdown",
   "id": "78689232",
   "metadata": {},
   "source": [
    "## 3. Acknowledgment\n",
    "The authors thank members of the Institute for Space Weather Sciences for helpful discussions. We also thank the reviewers for valuable comments and suggestions.\n",
    "\n",
    "## 4. References\n",
    "Operational prediction of solar flares using a transformer-based framework\n",
    "\n",
    "Yasser Abduallah, Jason T. L. Wang, Haimin Wang, and Yan Xu\n",
    "\n",
    "https://www.nature.com/articles/s41598-023-40884-1\n",
    "\n",
    "https://github.com/ccsc-tools/SolarFlare"
   ]
  },
  {
   "cell_type": "code",
   "execution_count": null,
   "id": "eb17e04f-6280-43e0-ab01-c651e280b92e",
   "metadata": {},
   "outputs": [],
   "source": []
  }
 ],
 "metadata": {
  "kernelspec": {
   "display_name": "Python 3 (ipykernel)",
   "language": "python",
   "name": "python3"
  },
  "language_info": {
   "codemirror_mode": {
    "name": "ipython",
    "version": 3
   },
   "file_extension": ".py",
   "mimetype": "text/x-python",
   "name": "python",
   "nbconvert_exporter": "python",
   "pygments_lexer": "ipython3",
   "version": "3.9.7"
  }
 },
 "nbformat": 4,
 "nbformat_minor": 5
}
