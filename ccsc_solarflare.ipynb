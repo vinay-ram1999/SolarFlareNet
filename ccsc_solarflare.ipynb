{
 "cells": [
  {
   "cell_type": "markdown",
   "id": "1f0aea4a",
   "metadata": {},
   "source": [
    "# Operational Prediction of Solar Flares Using a Transformer-Based Framework"
   ]
  },
  {
   "cell_type": "markdown",
   "id": "8ec079e6",
   "metadata": {},
   "source": [
    "### Yasser Abduallah, Jason T. L. Wang, Haimin Wang, and Yan Xu "
   ]
  },
  {
   "cell_type": "markdown",
   "id": "f20f257a",
   "metadata": {},
   "source": [
    "## 1. Introduction"
   ]
  },
  {
   "cell_type": "markdown",
   "id": "73c9d7b7",
   "metadata": {},
   "source": [
    "Solar flares are sudden explosions of energy that occur on the Sun’s surface. They often occur in solar active regions (ARs), caused by strong magnetic fields typically associated with sunspot areas. Solar flares are categorized into five classes A, B, C, M, and X, with A-class flares having the lowest intensity and X-class flares having the highest intensity. Major flares are usually accompanied by coronal mass ejections and solar energetic particles1. These eruptive events can have significant and harmful effects on or near Earth, damaging technologies, power grids, space stations, and human life. Therefore, providing accurate and early forecasts of solar flares is crucial for disaster risk management, risk mitigation, and preparedness.\n",
    "\n",
    "In this notebook, we present a transformer-based framework, named SolarFlareNet, for predicting whether an AR would produce. we attempt to use SDO/HMI vector magnetic field data together with flaring history to predict solar flares that would occur in an AR within 24, 48, and 72 hr of a given time point."
   ]
  },
  {
   "cell_type": "markdown",
   "id": "64bde3dd",
   "metadata": {},
   "source": [
    "## 2. SolarFlareNet Workflow"
   ]
  },
  {
   "cell_type": "markdown",
   "id": "a8a9da94",
   "metadata": {},
   "source": [
    "### 2.1 Data Prepration & Loading"
   ]
  },
  {
   "cell_type": "markdown",
   "id": "deac8a76",
   "metadata": {},
   "source": [
    "The data folder includes the training and test files. Each file is named with the flare type and hour, similar as the following example:\n",
    "* testing_data_C_24.csv  is a testing file used to test the >= C flare prediction for the next 24-hour.\n",
    "* training_data_C_24.csv is a training file used to train the model for >= C flare prediction for the next 24-hour.\n",
    "\n",
    "The files are loaded and used during the testing and training process."
   ]
  },
  {
   "cell_type": "markdown",
   "id": "70175507",
   "metadata": {},
   "source": [
    "### 2.2 Predicting with Pretrained Models\n",
    "There are existing and pretrained models that can be used to predict without running your own trained model. If you run a training, it will override these models."
   ]
  },
  {
   "cell_type": "code",
   "execution_count": 1,
   "id": "d96550f3-0082-47e0-88aa-f4df2fadb17d",
   "metadata": {},
   "outputs": [
    {
     "name": "stdout",
     "output_type": "stream",
     "text": [
      "WARNING: GPU device not found.\n",
      "Python version: 3.11.5\n",
      "Tensorflow bakcend version: 2.14.0\n",
      "\n",
      "\n",
      "[2023-11-07 14:07:35] Testing is initiated for time_window: 24 and flare class: C \n"
     ]
    }
   ],
   "source": [
    "#Test existing models for SolarFlareNet C,M, and M5 flares for  24, 47, and 72 hours.\n",
    "#You change the values to limit the flare types and number of hours to test.\n",
    "from SolarFlareNet_test import *\n",
    "for time_window in [24]:\n",
    "    for flare_class in ['C']:\n",
    "        test(str(time_window), flare_class)\n",
    "        log('===========================================================\\n\\n',verbose=True)"
   ]
  },
  {
   "cell_type": "markdown",
   "id": "ffb36dd2",
   "metadata": {},
   "source": [
    "#### 2.2.1 SolarFlareNet Model Training\n",
    "Here, we show how to train the model with existing data samples."
   ]
  },
  {
   "cell_type": "code",
   "execution_count": null,
   "id": "3295900a",
   "metadata": {},
   "outputs": [],
   "source": [
    "#Train existing models for SolarFlareNet C,M, and M5 flares for  24, 47, and 72 hours.\n",
    "#You change the values to limit the flare types and number of hours to train.\n",
    "print('Loading the train_model function...')\n",
    "from SolarFlareNet_train import *\n",
    "for time_window in [24]:\n",
    "    for flare_class in ['C']:\n",
    "        train(str(time_window), flare_class)\n",
    "        log('===========================================================\\n\\n',verbose=True)"
   ]
  },
  {
   "cell_type": "markdown",
   "id": "78689232",
   "metadata": {},
   "source": [
    "## 3. Acknowledgment\n",
    "The authors thank members of the Institute for Space Weather Sciences for helpful discussions. We also thank the reviewers for valuable comments and suggestions.\n",
    "\n",
    "## 4. References\n",
    "Operational prediction of solar flares using a transformer-based framework\n",
    "\n",
    "Yasser Abduallah, Jason T. L. Wang, Haimin Wang, and Yan Xu\n",
    "\n",
    "https://www.nature.com/articles/s41598-023-40884-1\n",
    "\n",
    "https://github.com/ccsc-tools/SolarFlare"
   ]
  },
  {
   "cell_type": "code",
   "execution_count": null,
   "id": "eb17e04f-6280-43e0-ab01-c651e280b92e",
   "metadata": {},
   "outputs": [],
   "source": []
  }
 ],
 "metadata": {
  "kernelspec": {
   "display_name": "Python 3 (ipykernel)",
   "language": "python",
   "name": "python3"
  },
  "language_info": {
   "codemirror_mode": {
    "name": "ipython",
    "version": 3
   },
   "file_extension": ".py",
   "mimetype": "text/x-python",
   "name": "python",
   "nbconvert_exporter": "python",
   "pygments_lexer": "ipython3",
   "version": "3.11.5"
  }
 },
 "nbformat": 4,
 "nbformat_minor": 5
}
